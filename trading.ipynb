{
 "cells": [
  {
   "cell_type": "markdown",
   "metadata": {},
   "source": [
    "# Automated trading using Python and OANDA\n",
    "The purpose of this project is to attempt to create a function that has a basic strategy to buy and sell currency. \n"
   ]
  },
  {
   "cell_type": "markdown",
   "metadata": {},
   "source": [
    "# 1 - Getting historical data.\n",
    "Using yfinance and pandas I am downloading historical data over the last ~60days in 15 minute intervals for Pound against Dollar.\n",
    "This will be used to test if the signal function in section 2 is working as intended."
   ]
  },
  {
   "cell_type": "code",
   "execution_count": 3,
   "metadata": {},
   "outputs": [
    {
     "name": "stdout",
     "output_type": "stream",
     "text": [
      "[*********************100%%**********************]  1 of 1 completed\n"
     ]
    },
    {
     "data": {
      "text/html": [
       "<div>\n",
       "<style scoped>\n",
       "    .dataframe tbody tr th:only-of-type {\n",
       "        vertical-align: middle;\n",
       "    }\n",
       "\n",
       "    .dataframe tbody tr th {\n",
       "        vertical-align: top;\n",
       "    }\n",
       "\n",
       "    .dataframe thead th {\n",
       "        text-align: right;\n",
       "    }\n",
       "</style>\n",
       "<table border=\"1\" class=\"dataframe\">\n",
       "  <thead>\n",
       "    <tr style=\"text-align: right;\">\n",
       "      <th></th>\n",
       "      <th>Open</th>\n",
       "      <th>High</th>\n",
       "      <th>Low</th>\n",
       "      <th>Close</th>\n",
       "      <th>Adj Close</th>\n",
       "      <th>Volume</th>\n",
       "    </tr>\n",
       "    <tr>\n",
       "      <th>Datetime</th>\n",
       "      <th></th>\n",
       "      <th></th>\n",
       "      <th></th>\n",
       "      <th></th>\n",
       "      <th></th>\n",
       "      <th></th>\n",
       "    </tr>\n",
       "  </thead>\n",
       "  <tbody>\n",
       "    <tr>\n",
       "      <th>2023-06-28 00:00:00</th>\n",
       "      <td>1.274843</td>\n",
       "      <td>1.274876</td>\n",
       "      <td>1.274551</td>\n",
       "      <td>1.274843</td>\n",
       "      <td>1.274843</td>\n",
       "      <td>0</td>\n",
       "    </tr>\n",
       "    <tr>\n",
       "      <th>2023-06-28 00:15:00</th>\n",
       "      <td>1.274827</td>\n",
       "      <td>1.274892</td>\n",
       "      <td>1.274324</td>\n",
       "      <td>1.274324</td>\n",
       "      <td>1.274324</td>\n",
       "      <td>0</td>\n",
       "    </tr>\n",
       "    <tr>\n",
       "      <th>2023-06-28 00:30:00</th>\n",
       "      <td>1.274616</td>\n",
       "      <td>1.274730</td>\n",
       "      <td>1.274616</td>\n",
       "      <td>1.274714</td>\n",
       "      <td>1.274714</td>\n",
       "      <td>0</td>\n",
       "    </tr>\n",
       "    <tr>\n",
       "      <th>2023-06-28 00:45:00</th>\n",
       "      <td>1.274681</td>\n",
       "      <td>1.274762</td>\n",
       "      <td>1.274486</td>\n",
       "      <td>1.274584</td>\n",
       "      <td>1.274584</td>\n",
       "      <td>0</td>\n",
       "    </tr>\n",
       "    <tr>\n",
       "      <th>2023-06-28 01:00:00</th>\n",
       "      <td>1.274486</td>\n",
       "      <td>1.275120</td>\n",
       "      <td>1.274421</td>\n",
       "      <td>1.275120</td>\n",
       "      <td>1.275120</td>\n",
       "      <td>0</td>\n",
       "    </tr>\n",
       "    <tr>\n",
       "      <th>...</th>\n",
       "      <td>...</td>\n",
       "      <td>...</td>\n",
       "      <td>...</td>\n",
       "      <td>...</td>\n",
       "      <td>...</td>\n",
       "      <td>...</td>\n",
       "    </tr>\n",
       "    <tr>\n",
       "      <th>2023-08-23 22:45:00</th>\n",
       "      <td>1.272394</td>\n",
       "      <td>1.272394</td>\n",
       "      <td>1.271795</td>\n",
       "      <td>1.271795</td>\n",
       "      <td>1.271795</td>\n",
       "      <td>0</td>\n",
       "    </tr>\n",
       "    <tr>\n",
       "      <th>2023-08-23 23:00:00</th>\n",
       "      <td>1.271989</td>\n",
       "      <td>1.272540</td>\n",
       "      <td>1.271989</td>\n",
       "      <td>1.272491</td>\n",
       "      <td>1.272491</td>\n",
       "      <td>0</td>\n",
       "    </tr>\n",
       "    <tr>\n",
       "      <th>2023-08-23 23:15:00</th>\n",
       "      <td>1.272669</td>\n",
       "      <td>1.272669</td>\n",
       "      <td>1.272329</td>\n",
       "      <td>1.272346</td>\n",
       "      <td>1.272346</td>\n",
       "      <td>0</td>\n",
       "    </tr>\n",
       "    <tr>\n",
       "      <th>2023-08-23 23:30:00</th>\n",
       "      <td>1.272329</td>\n",
       "      <td>1.272362</td>\n",
       "      <td>1.272135</td>\n",
       "      <td>1.272232</td>\n",
       "      <td>1.272232</td>\n",
       "      <td>0</td>\n",
       "    </tr>\n",
       "    <tr>\n",
       "      <th>2023-08-23 23:45:00</th>\n",
       "      <td>1.272297</td>\n",
       "      <td>1.272297</td>\n",
       "      <td>1.272038</td>\n",
       "      <td>1.272038</td>\n",
       "      <td>1.272038</td>\n",
       "      <td>0</td>\n",
       "    </tr>\n",
       "  </tbody>\n",
       "</table>\n",
       "<p>3888 rows × 6 columns</p>\n",
       "</div>"
      ],
      "text/plain": [
       "                         Open      High       Low     Close  Adj Close  Volume\n",
       "Datetime                                                                      \n",
       "2023-06-28 00:00:00  1.274843  1.274876  1.274551  1.274843   1.274843       0\n",
       "2023-06-28 00:15:00  1.274827  1.274892  1.274324  1.274324   1.274324       0\n",
       "2023-06-28 00:30:00  1.274616  1.274730  1.274616  1.274714   1.274714       0\n",
       "2023-06-28 00:45:00  1.274681  1.274762  1.274486  1.274584   1.274584       0\n",
       "2023-06-28 01:00:00  1.274486  1.275120  1.274421  1.275120   1.275120       0\n",
       "...                       ...       ...       ...       ...        ...     ...\n",
       "2023-08-23 22:45:00  1.272394  1.272394  1.271795  1.271795   1.271795       0\n",
       "2023-08-23 23:00:00  1.271989  1.272540  1.271989  1.272491   1.272491       0\n",
       "2023-08-23 23:15:00  1.272669  1.272669  1.272329  1.272346   1.272346       0\n",
       "2023-08-23 23:30:00  1.272329  1.272362  1.272135  1.272232   1.272232       0\n",
       "2023-08-23 23:45:00  1.272297  1.272297  1.272038  1.272038   1.272038       0\n",
       "\n",
       "[3888 rows x 6 columns]"
      ]
     },
     "execution_count": 3,
     "metadata": {},
     "output_type": "execute_result"
    }
   ],
   "source": [
    "import yfinance as yf\n",
    "import pandas as pd\n",
    "\n",
    "dataF = yf.download(\"GBPUSD=X\", start=\"2023-06-28\", end=\"2023-08-24\", interval='15m')\n",
    "dataF.iloc[:,:]\n",
    "#dataF.Open.iloc"
   ]
  },
  {
   "cell_type": "markdown",
   "metadata": {},
   "source": [
    "# 2 - Defining the signal function\n",
    "In this function we must identify what the market pattern is in order to allow the bot to decide what to currently do.\n",
    "\n",
    "In my strategy I will focus only on candle engulfing patterns."
   ]
  },
  {
   "cell_type": "code",
   "execution_count": 4,
   "metadata": {},
   "outputs": [],
   "source": [
    "def signal_generator(df):\n",
    "    open = df.Open.iloc[-1]\n",
    "    close = df.Close.iloc[-1]\n",
    "    previous_open = df.Open.iloc[-2]\n",
    "    previous_close = df.Close.iloc[-2]\n",
    "    \n",
    "    # Bearish Pattern\n",
    "    if (open>close and \n",
    "    previous_open<previous_close and \n",
    "    close<previous_open and\n",
    "    open>=previous_close):\n",
    "        return 1\n",
    "\n",
    "    # Bullish Pattern\n",
    "    elif (open<close and \n",
    "        previous_open>previous_close and \n",
    "        close>previous_open and\n",
    "        open<=previous_close):\n",
    "        return 2\n",
    "    \n",
    "    # No clear pattern\n",
    "    else:\n",
    "        return 0\n",
    "\n",
    "signal = []\n",
    "signal.append(0)\n",
    "for i in range(1,len(dataF)):\n",
    "    df = dataF[i-1:i+1]\n",
    "    signal.append(signal_generator(df))\n",
    "#signal_generator(data)\n",
    "dataF[\"signal\"] = signal"
   ]
  },
  {
   "cell_type": "code",
   "execution_count": 5,
   "metadata": {},
   "outputs": [
    {
     "data": {
      "text/plain": [
       "signal\n",
       "0    3508\n",
       "2     199\n",
       "1     181\n",
       "Name: count, dtype: int64"
      ]
     },
     "execution_count": 5,
     "metadata": {},
     "output_type": "execute_result"
    }
   ],
   "source": [
    "dataF.signal.value_counts()\n",
    "#dataF.iloc[:, :]"
   ]
  },
  {
   "cell_type": "markdown",
   "metadata": {},
   "source": [
    "As we can see the function works well as we have 82 sells and 71 buys with the historical data, so we can safely move onto the live API calls.\n",
    "# 3 - Connecting to API and executing trades\n",
    "In this section I will be accessing my OANDA account with my access token and attempting execute a schedule for my trading_job function."
   ]
  },
  {
   "cell_type": "code",
   "execution_count": 6,
   "metadata": {},
   "outputs": [
    {
     "name": "stdout",
     "output_type": "stream",
     "text": [
      "Requirement already satisfied: apscheduler in c:\\users\\robva\\appdata\\local\\programs\\python\\python311\\lib\\site-packages (3.10.4)Note: you may need to restart the kernel to use updated packages.\n",
      "\n",
      "Requirement already satisfied: six>=1.4.0 in c:\\users\\robva\\appdata\\roaming\\python\\python311\\site-packages (from apscheduler) (1.16.0)\n",
      "Requirement already satisfied: pytz in c:\\users\\robva\\appdata\\local\\programs\\python\\python311\\lib\\site-packages (from apscheduler) (2023.3)\n",
      "Requirement already satisfied: tzlocal!=3.*,>=2.0 in c:\\users\\robva\\appdata\\local\\programs\\python\\python311\\lib\\site-packages (from apscheduler) (5.0.1)\n",
      "Requirement already satisfied: tzdata in c:\\users\\robva\\appdata\\local\\programs\\python\\python311\\lib\\site-packages (from tzlocal!=3.*,>=2.0->apscheduler) (2023.3)\n"
     ]
    },
    {
     "name": "stderr",
     "output_type": "stream",
     "text": [
      "\n",
      "[notice] A new release of pip is available: 23.1.2 -> 23.2.1\n",
      "[notice] To update, run: python.exe -m pip install --upgrade pip\n"
     ]
    },
    {
     "name": "stdout",
     "output_type": "stream",
     "text": [
      "Requirement already satisfied: oandapyV20 in c:\\users\\robva\\appdata\\local\\programs\\python\\python311\\lib\\site-packages (0.6.3)\n",
      "Note: you may need to restart the kernel to use updated packages.\n"
     ]
    },
    {
     "name": "stderr",
     "output_type": "stream",
     "text": [
      "\n",
      "[notice] A new release of pip is available: 23.1.2 -> 23.2.1\n",
      "[notice] To update, run: python.exe -m pip install --upgrade pip\n"
     ]
    },
    {
     "name": "stdout",
     "output_type": "stream",
     "text": [
      "Requirement already satisfied: oanda_candles in c:\\users\\robva\\appdata\\local\\programs\\python\\python311\\lib\\site-packages (0.1.0)Note: you may need to restart the kernel to use updated packages.\n"
     ]
    },
    {
     "name": "stderr",
     "output_type": "stream",
     "text": [
      "\n",
      "[notice] A new release of pip is available: 23.1.2 -> 23.2.1\n",
      "[notice] To update, run: python.exe -m pip install --upgrade pip\n"
     ]
    },
    {
     "name": "stdout",
     "output_type": "stream",
     "text": [
      "\n",
      "Requirement already satisfied: forex-types<0.0.7,>=0.0.6 in c:\\users\\robva\\appdata\\local\\programs\\python\\python311\\lib\\site-packages (from oanda_candles) (0.0.6)\n",
      "Requirement already satisfied: magic-kind<0.3.0,>=0.2.2 in c:\\users\\robva\\appdata\\local\\programs\\python\\python311\\lib\\site-packages (from oanda_candles) (0.2.2)\n",
      "Requirement already satisfied: oandapyV20<0.7.0,>=0.6.3 in c:\\users\\robva\\appdata\\local\\programs\\python\\python311\\lib\\site-packages (from oanda_candles) (0.6.3)\n",
      "Requirement already satisfied: requests<3.0.0,>=2.23.0 in c:\\users\\robva\\appdata\\local\\programs\\python\\python311\\lib\\site-packages (from oanda_candles) (2.31.0)\n",
      "Requirement already satisfied: time-int<0.0.10,>=0.0.9 in c:\\users\\robva\\appdata\\local\\programs\\python\\python311\\lib\\site-packages (from oanda_candles) (0.0.9)\n",
      "Requirement already satisfied: charset-normalizer<4,>=2 in c:\\users\\robva\\appdata\\local\\programs\\python\\python311\\lib\\site-packages (from requests<3.0.0,>=2.23.0->oanda_candles) (3.2.0)\n",
      "Requirement already satisfied: idna<4,>=2.5 in c:\\users\\robva\\appdata\\local\\programs\\python\\python311\\lib\\site-packages (from requests<3.0.0,>=2.23.0->oanda_candles) (3.4)\n",
      "Requirement already satisfied: urllib3<3,>=1.21.1 in c:\\users\\robva\\appdata\\local\\programs\\python\\python311\\lib\\site-packages (from requests<3.0.0,>=2.23.0->oanda_candles) (2.0.4)\n",
      "Requirement already satisfied: certifi>=2017.4.17 in c:\\users\\robva\\appdata\\local\\programs\\python\\python311\\lib\\site-packages (from requests<3.0.0,>=2.23.0->oanda_candles) (2023.7.22)\n",
      "Requirement already satisfied: pytest<6.0.0,>=5.4.2 in c:\\users\\robva\\appdata\\local\\programs\\python\\python311\\lib\\site-packages (from time-int<0.0.10,>=0.0.9->oanda_candles) (5.4.3)\n",
      "Requirement already satisfied: py>=1.5.0 in c:\\users\\robva\\appdata\\local\\programs\\python\\python311\\lib\\site-packages (from pytest<6.0.0,>=5.4.2->time-int<0.0.10,>=0.0.9->oanda_candles) (1.11.0)\n",
      "Requirement already satisfied: packaging in c:\\users\\robva\\appdata\\roaming\\python\\python311\\site-packages (from pytest<6.0.0,>=5.4.2->time-int<0.0.10,>=0.0.9->oanda_candles) (23.1)\n",
      "Requirement already satisfied: attrs>=17.4.0 in c:\\users\\robva\\appdata\\local\\programs\\python\\python311\\lib\\site-packages (from pytest<6.0.0,>=5.4.2->time-int<0.0.10,>=0.0.9->oanda_candles) (23.1.0)\n",
      "Requirement already satisfied: more-itertools>=4.0.0 in c:\\users\\robva\\appdata\\local\\programs\\python\\python311\\lib\\site-packages (from pytest<6.0.0,>=5.4.2->time-int<0.0.10,>=0.0.9->oanda_candles) (10.1.0)\n",
      "Requirement already satisfied: pluggy<1.0,>=0.12 in c:\\users\\robva\\appdata\\local\\programs\\python\\python311\\lib\\site-packages (from pytest<6.0.0,>=5.4.2->time-int<0.0.10,>=0.0.9->oanda_candles) (0.13.1)\n",
      "Requirement already satisfied: wcwidth in c:\\users\\robva\\appdata\\roaming\\python\\python311\\site-packages (from pytest<6.0.0,>=5.4.2->time-int<0.0.10,>=0.0.9->oanda_candles) (0.2.6)\n",
      "Requirement already satisfied: atomicwrites>=1.0 in c:\\users\\robva\\appdata\\local\\programs\\python\\python311\\lib\\site-packages (from pytest<6.0.0,>=5.4.2->time-int<0.0.10,>=0.0.9->oanda_candles) (1.4.1)\n",
      "Requirement already satisfied: colorama in c:\\users\\robva\\appdata\\roaming\\python\\python311\\site-packages (from pytest<6.0.0,>=5.4.2->time-int<0.0.10,>=0.0.9->oanda_candles) (0.4.6)\n"
     ]
    }
   ],
   "source": [
    "%pip install apscheduler\n",
    "%pip install oandapyV20\n",
    "%pip install oanda_candles"
   ]
  },
  {
   "cell_type": "code",
   "execution_count": 7,
   "metadata": {},
   "outputs": [],
   "source": [
    "from apscheduler.schedulers.blocking import BlockingScheduler\n",
    "from oandapyV20 import API\n",
    "import oandapyV20.endpoints.orders as orders\n",
    "from oandapyV20.contrib.requests import MarketOrderRequest\n",
    "from oanda_candles import Pair, Gran, CandleClient\n",
    "from oandapyV20.contrib.requests import TakeProfitDetails, StopLossDetails"
   ]
  },
  {
   "cell_type": "code",
   "execution_count": 8,
   "metadata": {},
   "outputs": [
    {
     "name": "stdout",
     "output_type": "stream",
     "text": [
      "True\n",
      "True\n",
      "True\n"
     ]
    }
   ],
   "source": [
    "access_token = '<YOUR-API-ACCESS-TOKEN>'\n",
    "def get_candles(n):\n",
    "    client = CandleClient(access_token, real=False)\n",
    "    collector = client.get_collector(Pair.GBP_USD, Gran.M15)\n",
    "    candles = collector.grab(n)\n",
    "    return candles\n",
    "#last 3 candles is the most recent\n",
    "candles = get_candles(3)\n",
    "for candle in candles:\n",
    "    print(float(str(candle.bid.o))>1)"
   ]
  },
  {
   "cell_type": "code",
   "execution_count": 9,
   "metadata": {},
   "outputs": [],
   "source": [
    "def trading_job():\n",
    "    #last candle open, price is fluctuating for close\n",
    "    candles = get_candles(3)\n",
    "    dfstream = pd.DataFrame(columns=['Open','Close','High','Low'])\n",
    "    i=0\n",
    "\n",
    "    for candle in candles:\n",
    "        dfstream.loc[i, ['Open']] = float(str(candle.bid.o))\n",
    "        dfstream.loc[i, ['Close']] = float(str(candle.bid.c))\n",
    "        dfstream.loc[i, ['High']] = float(str(candle.bid.h))\n",
    "        dfstream.loc[i, ['Low']] = float(str(candle.bid.l))\n",
    "        i += 1\n",
    "    \n",
    "    dfstream['Open'] = dfstream['Open'].astype(float)\n",
    "    dfstream['Close'] = dfstream['Close'].astype(float)\n",
    "    dfstream['High'] = dfstream['High'].astype(float)\n",
    "    dfstream['Low'] = dfstream['Low'].astype(float)\n",
    "\n",
    "    #providing the live dataframe into the signal gen function.\n",
    "    signal = signal_generator(dfstream.iloc[:-1,:])\n",
    "    \n",
    "    accountID = \"<YOUR-ACCCOUNT-ID>\"\n",
    "    client = API(access_token)\n",
    "\n",
    "    #stop-loss-take-profit ratio allows us to know when to buy/sell\n",
    "    SLTPRatio = 2\n",
    "    #previous candle range open - close\n",
    "    previous_candleR = abs(dfstream['Open'].iloc[-2]-dfstream['Close'].iloc[-2])\n",
    "\n",
    "    SLBuy = float(str(candle.bid.o)) -previous_candleR\n",
    "    SLSell = float(str(candle.bid.o)) +previous_candleR\n",
    "\n",
    "    #multiplied by SLTP to aim for 2x profit\n",
    "    TPBuy = float(str(candle.bid.o)) + previous_candleR*SLTPRatio\n",
    "    TPSell = float(str(candle.bid.o)) - previous_candleR*SLTPRatio\n",
    "\n",
    "    print(dfstream.iloc[:-1:])\n",
    "    print(TPBuy, \" \", SLBuy, \" \", TPSell, \" \", SLSell)\n",
    "    #signal = 1\n",
    "    \n",
    "    #Sell\n",
    "    if signal == 1:\n",
    "        mo = MarketOrderRequest(instrument = \"GBP_USD\", units = -1000, takeProfitOnFill=TakeProfitDetails(price=TPSell).data, stopLossOnFill=StopLossDetails(price=SLSell).data)\n",
    "        r = orders.OrderCreate(accountID, data = mo.data)\n",
    "        rv = client.request(r)\n",
    "        print(rv)\n",
    "    \n",
    "    #Buy\n",
    "    elif signal == 2:\n",
    "        mo = MarketOrderRequest(instrument = \"GBP_USD\", units = 1000, takeProfitOnFill=TakeProfitDetails(price=TPBuy).data, stopLossOnFill=StopLossDetails(price=SLBuy).data)\n",
    "        r = orders.OrderCreate(accountID, data = mo.data)\n",
    "        rv = client.request(r)\n",
    "        print(rv)"
   ]
  },
  {
   "cell_type": "markdown",
   "metadata": {},
   "source": [
    "# 4 - Testing the trading function\n",
    "To test this without having to wait for the scheduler, I will simply set the signal = 1 (sell) and run the trading job function."
   ]
  },
  {
   "cell_type": "code",
   "execution_count": 10,
   "metadata": {},
   "outputs": [
    {
     "name": "stdout",
     "output_type": "stream",
     "text": [
      "      Open    Close     High      Low\n",
      "0  1.26309  1.26269  1.26339  1.26267\n",
      "1  1.26269  1.26317  1.26333  1.26262\n",
      "1.2641099999999996   1.2626700000000002   1.2621900000000004   1.2636299999999998\n",
      "{'orderCreateTransaction': {'id': '4', 'accountID': '101-004-26679487-001', 'userID': 26679487, 'batchID': '4', 'requestID': '79158111713791040', 'time': '2023-08-24T16:42:15.464984654Z', 'type': 'MARKET_ORDER', 'instrument': 'GBP_USD', 'units': '-1000', 'timeInForce': 'FOK', 'positionFill': 'DEFAULT', 'takeProfitOnFill': {'price': '1.26219', 'timeInForce': 'GTC'}, 'stopLossOnFill': {'price': '1.26363', 'timeInForce': 'GTC', 'triggerMode': 'TOP_OF_BOOK'}, 'reason': 'CLIENT_ORDER'}, 'orderFillTransaction': {'id': '5', 'accountID': '101-004-26679487-001', 'userID': 26679487, 'batchID': '4', 'requestID': '79158111713791040', 'time': '2023-08-24T16:42:15.464984654Z', 'type': 'ORDER_FILL', 'orderID': '4', 'instrument': 'GBP_USD', 'units': '-1000', 'requestedUnits': '-1000', 'price': '1.26274', 'pl': '0.0000', 'quotePL': '0', 'financing': '0.0000', 'baseFinancing': '0', 'commission': '0.0000', 'accountBalance': '100000.0000', 'gainQuoteHomeConversionFactor': '0.787928465306', 'lossQuoteHomeConversionFactor': '0.795847344355', 'guaranteedExecutionFee': '0.0000', 'quoteGuaranteedExecutionFee': '0', 'halfSpreadCost': '0.0515', 'fullVWAP': '1.26274', 'reason': 'MARKET_ORDER', 'tradeOpened': {'price': '1.26274', 'tradeID': '5', 'units': '-1000', 'guaranteedExecutionFee': '0.0000', 'quoteGuaranteedExecutionFee': '0', 'halfSpreadCost': '0.0515', 'initialMarginRequired': '33.3333'}, 'fullPrice': {'closeoutBid': '1.26269', 'closeoutAsk': '1.26292', 'timestamp': '2023-08-24T16:42:12.218423912Z', 'bids': [{'price': '1.26274', 'liquidity': '1000000'}, {'price': '1.26272', 'liquidity': '2000000'}, {'price': '1.26271', 'liquidity': '2000000'}, {'price': '1.26269', 'liquidity': '5000000'}], 'asks': [{'price': '1.26287', 'liquidity': '1000000'}, {'price': '1.26290', 'liquidity': '4000000'}, {'price': '1.26292', 'liquidity': '5000000'}]}, 'homeConversionFactors': {'gainQuoteHome': {'factor': '0.78792846530633'}, 'lossQuoteHome': {'factor': '0.79584734435463'}, 'gainBaseHome': {'factor': '1'}, 'lossBaseHome': {'factor': '1'}}}, 'relatedTransactionIDs': ['4', '5', '6', '7'], 'lastTransactionID': '7'}\n"
     ]
    }
   ],
   "source": [
    "trading_job()"
   ]
  },
  {
   "cell_type": "markdown",
   "metadata": {},
   "source": [
    "![Sucessful-Sale-OANDA](https://i.imgur.com/LEKbgpQ.png)"
   ]
  },
  {
   "cell_type": "markdown",
   "metadata": {},
   "source": [
    "# 5 - Call the trading job function\n",
    "Using the Blocking Scheduler, I can add the trading function to be called 4 times every hour, mon-fri continuously.\n",
    "It will take the last 3 candles at each of the 15 minute intervals and determine whether to buy, sell or do nothing depending on what the function returns."
   ]
  },
  {
   "cell_type": "code",
   "execution_count": 11,
   "metadata": {},
   "outputs": [],
   "source": [
    "scheduler = BlockingScheduler()\n",
    "scheduler.add_job(trading_job, 'cron', day_of_week = 'mon-fri', hour='00-23',minute='1,16,31,46',start_date='2023-08-25 12:00:00')\n",
    "scheduler.start()"
   ]
  }
 ],
 "metadata": {
  "kernelspec": {
   "display_name": "Python 3",
   "language": "python",
   "name": "python3"
  },
  "language_info": {
   "codemirror_mode": {
    "name": "ipython",
    "version": 3
   },
   "file_extension": ".py",
   "mimetype": "text/x-python",
   "name": "python",
   "nbconvert_exporter": "python",
   "pygments_lexer": "ipython3",
   "version": "3.11.4"
  },
  "orig_nbformat": 4
 },
 "nbformat": 4,
 "nbformat_minor": 2
}
